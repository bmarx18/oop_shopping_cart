{
 "cells": [
  {
   "cell_type": "markdown",
   "metadata": {},
   "source": [
    "# Object-Oriented-Programming (OOP)"
   ]
  },
  {
   "cell_type": "markdown",
   "metadata": {},
   "source": [
    "## Tasks Today:\n",
    "\n",
    "   \n",
    "\n",
    "1) <b>Creating a Class (Initializing/Declaring)</b> <br>\n",
    "2) <b>Using a Class (Instantiating)</b> <br>\n",
    " &nbsp;&nbsp;&nbsp;&nbsp; a) Creating One Instance <br>\n",
    " &nbsp;&nbsp;&nbsp;&nbsp; b) Creating Multiple Instances <br>\n",
    " &nbsp;&nbsp;&nbsp;&nbsp; c) In-Class Exercise #1 - Create a Class 'Car' and instantiate three different makes of cars <br>\n",
    "3) <b>The \\__init\\__() Method</b> <br>\n",
    " &nbsp;&nbsp;&nbsp;&nbsp; a) The 'self' Attribute <br>\n",
    "4) <b>Class Attributes</b> <br>\n",
    " &nbsp;&nbsp;&nbsp;&nbsp; a) Initializing Attributes <br>\n",
    " &nbsp;&nbsp;&nbsp;&nbsp; b) Setting an Attribute Outside of the \\__init\\__() Method <br>\n",
    " &nbsp;&nbsp;&nbsp;&nbsp; c) Setting Defaults for Attributes <br>\n",
    " &nbsp;&nbsp;&nbsp;&nbsp; d) Accessing Class Attributes <br>\n",
    " &nbsp;&nbsp;&nbsp;&nbsp; e) Changing Class Attributes <br>\n",
    " &nbsp;&nbsp;&nbsp;&nbsp; f) In-Class Exercise #2 - Add a color and wheels attribute to your 'Car' class <br>\n",
    "5) <b>Class Methods</b> <br>\n",
    " &nbsp;&nbsp;&nbsp;&nbsp; a) Creating <br>\n",
    " &nbsp;&nbsp;&nbsp;&nbsp; b) Calling <br>\n",
    " &nbsp;&nbsp;&nbsp;&nbsp; c) Modifying an Attribute's Value Through a Method <br>\n",
    " &nbsp;&nbsp;&nbsp;&nbsp; d) Incrementing an Attribute's Value Through a Method <br>\n",
    " &nbsp;&nbsp;&nbsp;&nbsp; e) In-Class Exercise #3 - Add a method that prints the cars color and wheel number, then call them <br>\n",
    "6) <b>Inheritance</b> <br>\n",
    " &nbsp;&nbsp;&nbsp;&nbsp; a) Syntax for Inheriting from a Parent Class <br>\n",
    " &nbsp;&nbsp;&nbsp;&nbsp; b) The \\__init\\__() Method for a Child Class (super()) <br>\n",
    " &nbsp;&nbsp;&nbsp;&nbsp; c) Defining Attributes and Methods for the Child Class <br>\n",
    " &nbsp;&nbsp;&nbsp;&nbsp; d) Method Overriding <br>\n",
    " &nbsp;&nbsp;&nbsp;&nbsp; e) In-Class Exercise #4 - Create a class 'Ford' that inherits from 'Car' class and initialize it as a Blue Ford Explorer with 4 wheels using the super() method <br>\n",
    "7) <b>Classes as Attributes</b> <br>\n",
    "8) <b>Exercises</b> <br>\n",
    " &nbsp;&nbsp;&nbsp;&nbsp; a) Exercise #1 - Turn the shopping cart program from last week into an object-oriented program <br>"
   ]
  },
  {
   "cell_type": "markdown",
   "metadata": {},
   "source": [
    "## Creating a Class (Initializing/Declaring)\n",
    "<p>When creating a class, function, or even a variable you are initializing that object. Initializing and Declaring occur at the same time in Python, whereas in lower level languages you have to declare an object before initializing it. This is the first step in the process of using a class.</p>"
   ]
  },
  {
   "cell_type": "code",
   "execution_count": null,
   "metadata": {},
   "outputs": [],
   "source": [
    "class Car():\n",
    "    wheels = 4\n",
    "    color = 'blue'"
   ]
  },
  {
   "cell_type": "markdown",
   "metadata": {},
   "source": [
    "## Using a Class (Instantiating)\n",
    "<p>The process of creating a class is called <i>Instantiating</i>. Each time you create a variable of that type of class, it is referred to as an <i>Instance</i> of that class. This is the second step in the process of using a class.</p>"
   ]
  },
  {
   "cell_type": "markdown",
   "metadata": {},
   "source": [
    "##### Creating One Instance"
   ]
  },
  {
   "cell_type": "code",
   "execution_count": null,
   "metadata": {},
   "outputs": [],
   "source": [
    "class Car():\n",
    "    wheels = 4\n",
    "    color = 'blue'\n",
    "    \n",
    "ford = Car()\n",
    "print(ford.wheels)"
   ]
  },
  {
   "cell_type": "markdown",
   "metadata": {},
   "source": [
    "##### Creating Multiple Instances"
   ]
  },
  {
   "cell_type": "code",
   "execution_count": null,
   "metadata": {},
   "outputs": [],
   "source": [
    "mazda = Car()\n",
    "print(mazda.color)\n",
    "honda = Car()\n",
    "print(honda.wheels)\n",
    "chevy = Car()\n",
    "print(chevy.color)"
   ]
  },
  {
   "cell_type": "markdown",
   "metadata": {},
   "source": [
    "##### In-Class Exercise #1 - Create a Class 'Car' and Instantiate three different makes of cars"
   ]
  },
  {
   "cell_type": "code",
   "execution_count": null,
   "metadata": {},
   "outputs": [],
   "source": [
    "class Car():\n",
    "    def __init__(self, color, type_, model, doors, hatchback):\n",
    "        self.color = color\n",
    "        self.type_ = type_\n",
    "        self.model = model\n",
    "        self.doors = doors\n",
    "        self.hatchback = hatchback\n",
    "        \n",
    "subaru = Car(\"black\", \"SUV\", \"Crosstrex\", 4, False)\n",
    "print(subaru.hatchback)\n",
    "vw = Car(\"black\", \"Compact\", \"Golf R\", 2, True)\n",
    "print(f'I used to drive a {vw.model} that was {vw.color} and loved it, but it would have been too expensive ship.')"
   ]
  },
  {
   "cell_type": "markdown",
   "metadata": {},
   "source": [
    "## The \\__init\\__() Method <br>\n",
    "<p>This method is used in almost every created class, and called only once upon the creation of the class instance. This method will initialize all variables needed for the object.</p>"
   ]
  },
  {
   "cell_type": "code",
   "execution_count": null,
   "metadata": {},
   "outputs": [],
   "source": [
    "#__ double underscore\n",
    "#__init__(self, name, age)\n",
    "#self is referring to the object or instance\n",
    "\n",
    "class Car():\n",
    "    ENGINE = \"4.7L\" #constants are in all caps and outside def\n",
    "    def __init__(self, wheels, color, doors):\n",
    "        self.wheels = wheels\n",
    "        self.color = color\n",
    "        self.doors = doors\n",
    "        \n",
    "ford = Car(4, \"blue\", 2)\n",
    "print(ford.wheels)\n",
    "print(ford.color)\n",
    "mazda = Car(4, \"red\", 6)\n",
    "print(mazda.color)\n",
    "print(ford.ENGINE)\n",
    "print(mazda.ENGINE)"
   ]
  },
  {
   "cell_type": "markdown",
   "metadata": {},
   "source": [
    "##### The 'self' Attribute <br>\n",
    "<p>This attribute is required to keep track of specific instance's attributes. Without the self attribute, the program would not know how to reference or keep track of an instance's attributes.</p>"
   ]
  },
  {
   "cell_type": "code",
   "execution_count": null,
   "metadata": {},
   "outputs": [],
   "source": [
    "# see above\n",
    "\n",
    "class Pokemon():\n",
    "    def __init__(self, name, type_):\n",
    "        #self is going to hold the place of the object we instantiate\n",
    "        self.name = name\n",
    "        self.type_ = type_\n",
    "        print(f'self is referencing the object {self}, {self.name}')\n",
    "        print(self.type_)\n",
    "        \n",
    "charmander = Pokemon(\"Charmander\", \"fire\")"
   ]
  },
  {
   "cell_type": "markdown",
   "metadata": {},
   "source": [
    "## Class Attributes <br>\n",
    "<p>While variables are inside of a class, they are referred to as attributes and not variables. When someone says 'attribute' you know they're speaking about a class. Attributes can be initialized through the init method, or outside of it.</p>"
   ]
  },
  {
   "cell_type": "markdown",
   "metadata": {},
   "source": [
    "##### Initializing Attributes"
   ]
  },
  {
   "cell_type": "code",
   "execution_count": null,
   "metadata": {},
   "outputs": [],
   "source": [
    "# see above\n",
    "squirtle = Pokemon(\"Squirtle\", \"Water\")\n"
   ]
  },
  {
   "cell_type": "markdown",
   "metadata": {},
   "source": [
    "##### Accessing Class Attributes"
   ]
  },
  {
   "cell_type": "code",
   "execution_count": null,
   "metadata": {
    "scrolled": true
   },
   "outputs": [],
   "source": [
    "# See Above\n",
    "\n",
    "print(squirtle.name)\n",
    "print(squirtle.type_)\n",
    "\n",
    "print(squirtle.__dict__)"
   ]
  },
  {
   "cell_type": "markdown",
   "metadata": {},
   "source": [
    "##### Setting Defaults for Attributes"
   ]
  },
  {
   "cell_type": "code",
   "execution_count": null,
   "metadata": {},
   "outputs": [],
   "source": [
    "class Car():\n",
    "    def __init__(self, wheels):\n",
    "        self.wheels = wheels\n",
    "        self.color = \"Blue\"\n",
    "        \n",
    "honda = Car(4)\n",
    "print(honda.wheels)\n",
    "print(honda.color)"
   ]
  },
  {
   "cell_type": "code",
   "execution_count": null,
   "metadata": {},
   "outputs": [],
   "source": [
    "class Car():\n",
    "    def __init__(self, wheels, color = \"Blue\"):\n",
    "        self.wheels = wheels\n",
    "        self.color = \"Blue\"\n",
    "        \n",
    "print(honda.wheels)\n",
    "print(honda.color)"
   ]
  },
  {
   "cell_type": "markdown",
   "metadata": {},
   "source": [
    "##### Changing Class Attributes <br>\n",
    "<p>Keep in mind there are global class attributes and then there are attributes only available to each class instance which won't effect other classes.</p>"
   ]
  },
  {
   "cell_type": "code",
   "execution_count": null,
   "metadata": {},
   "outputs": [],
   "source": [
    "#change the default attribute in this instantion of class \n",
    "print(honda.__dict__)\n",
    "\n",
    "honda.color = \"white\"\n",
    "\n",
    "print(honda.__dict__)"
   ]
  },
  {
   "cell_type": "code",
   "execution_count": null,
   "metadata": {},
   "outputs": [],
   "source": [
    "print(f'Before attribute change: {ford.color}')\n",
    "ford.color = \"orange\"\n",
    "print(f'After attribute change: {ford.color}')"
   ]
  },
  {
   "cell_type": "markdown",
   "metadata": {},
   "source": [
    "##### In-Class Exercise #2 - Add a doors and seats attribute to your 'Car' class then print out two different instances with different doors and seats"
   ]
  },
  {
   "cell_type": "code",
   "execution_count": null,
   "metadata": {},
   "outputs": [],
   "source": [
    "class Car():\n",
    "    def __init__(self, color, type_, model, doors, hatchback):\n",
    "        self.color = color\n",
    "        self.type_ = type_\n",
    "        self.model = model\n",
    "        self.doors = doors\n",
    "        self.hatchback = hatchback\n",
    "        \n",
    "subaru = Car(\"black\", \"SUV\", \"Crosstrex\", 4, False)\n",
    "vw = Car(\"black\", \"Compact\", \"Golf R\", 2, True)\n",
    "        \n",
    "print(f'Before attribute change: {subaru.color}')\n",
    "subaru.color = \"purple\"\n",
    "print(f'After attribute change: {subaru.color}\\n')\n",
    "\n",
    "print(f'Before attribute change: {vw.color}')\n",
    "vw.color = \"grey\"\n",
    "print(f'After attribute change: {vw.color}\\n')\n",
    "\n",
    "print(f'Before attribute change: {subaru.hatchback}')\n",
    "subaru.hatchback = True\n",
    "print(f'After attribute change: {subaru.hatchback}\\n')\n",
    "\n",
    "print(f'Before attribute change: {subaru.type_}')\n",
    "subaru.type_ = \"compact\"\n",
    "print(f'After attribute change: {subaru.type_}\\n')"
   ]
  },
  {
   "cell_type": "markdown",
   "metadata": {},
   "source": [
    "## Class Methods <br>\n",
    "<p>While inside of a class, functions are referred to as 'methods'. If you hear someone mention methods, they're speaking about classes. Methods are essentially functions, but only callable on the instances of a class.</p>"
   ]
  },
  {
   "cell_type": "markdown",
   "metadata": {},
   "source": [
    "##### Creating"
   ]
  },
  {
   "cell_type": "code",
   "execution_count": null,
   "metadata": {},
   "outputs": [],
   "source": [
    "class Bus():\n",
    "    \"\"\"\n",
    "    The bus will have doors, seats, seats_available, color, and a bus_driver\n",
    "    \n",
    "    Attributes for the. lass;\n",
    "    -doors: integer\n",
    "    -seats: integer\n",
    "    -seats_availble: integer\n",
    "    -color: string\n",
    "    -bus_driver: string\n",
    "    \"\"\"\n",
    "    \n",
    "    def __init__(self, doors, seats, seats_available, color, bus_driver):\n",
    "        self.doors = doors\n",
    "        self.seats = seats\n",
    "        self.seats_available = seats_available\n",
    "        self.color = color\n",
    "        self.bus_driver = bus_driver\n",
    "        \n",
    "    #decrement the number of seats available.\n",
    "    def load_passengers(self): #self will give us access to the instance we will access later on\n",
    "        if self.seats_available <= 0:\n",
    "            print(\"This bus is full. Go home.\")\n",
    "            if self.seats_available < 0:\n",
    "                print(f'You left {abs(self.seats_available)} by the road!')\n",
    "                self.seats_available = 0\n",
    "        else:\n",
    "            passengers = int(input(\"How many passengers are getting on?\"))\n",
    "            self.seats_available -= passengers\n",
    "            print(f'{passengers} passengers have boarded. There are {self.seats_available} left on the bus!')\n",
    "\n",
    "    #increment the number of seats available\n",
    "    def unload_passengers(self):\n",
    "        if self.seats_available >= self.seats:\n",
    "            print(\"There is no one left to get off the bus!\")\n",
    "        else:\n",
    "            unload = int(input(\"How mnay passengers are getting off the bus?\"))\n",
    "            self.seats_available += unload\n",
    "            if self.seats_available >= self.seats:\n",
    "                self.seats_available = self.seats\n",
    "                print(f'{unload} passengers have left the bus. There are {self.seats_available} left.')\n",
    "            print(f'{unload} passengers have left the bus. There are {self.seats_available} left.')\n",
    "\n",
    "    #change bus driver attribute\n",
    "    def change_driver(self):\n",
    "        change = input(\"Who is replacing you?\")\n",
    "        self.bus_driver = change\n",
    "        print(f'The new bus driver is {self.bus_driver}. Be sure to thank them!')\n",
    "\n",
    "    #display seat information\n",
    "    def check_seats(self):\n",
    "        print(self.seats_available)\n",
    "\n",
    "    #displaycolor information about bus\n",
    "    def admire_bus(self):\n",
    "        print(f'Would ya just loo at that beautiful {self.color} bus!')\n",
    "            \n",
    "ryan_bus = Bus(2, 180, 10, \"White\", \"Bob\")"
   ]
  },
  {
   "cell_type": "markdown",
   "metadata": {},
   "source": [
    "##### Calling"
   ]
  },
  {
   "cell_type": "code",
   "execution_count": null,
   "metadata": {},
   "outputs": [],
   "source": [
    "# See above\n",
    "\n",
    "def run():\n",
    "    while True:\n",
    "        response = input(\"What would you like to do? load, unload, change driver, check seats, admire or quit\")\n",
    "        if response.lower() == \"quit\":\n",
    "            print(\"Oh no! There are still passengers to be picked up.\")\n",
    "            break\n",
    "        elif response.lower() == \"load\":\n",
    "            ryan_bus.load_passengers()\n",
    "            \n",
    "        elif response.lower() == \"unload\":\n",
    "            ryan_bus.unload_passengers()\n",
    "        \n",
    "        elif response.lower() == \"change driver\":\n",
    "            ryan_bus.change_driver()\n",
    "            \n",
    "        elif response.lower() == \"check seats\":\n",
    "            ryan_bus.check_seats()\n",
    "            \n",
    "        elif response.lower() == \"admire\":\n",
    "            ryan_bus.admire_bus()\n",
    "            \n",
    "        else:\n",
    "            print(\"That is not a valid response. Please pick from the list.\")\n",
    "run()"
   ]
  },
  {
   "cell_type": "markdown",
   "metadata": {},
   "source": [
    "##### Modifying an Attribute's Value Through a Method"
   ]
  },
  {
   "cell_type": "code",
   "execution_count": null,
   "metadata": {},
   "outputs": [],
   "source": [
    "#see above"
   ]
  },
  {
   "cell_type": "markdown",
   "metadata": {},
   "source": [
    "##### Incrementing an Attribute's Value Through a Method"
   ]
  },
  {
   "cell_type": "code",
   "execution_count": null,
   "metadata": {},
   "outputs": [],
   "source": [
    "#see above"
   ]
  },
  {
   "cell_type": "markdown",
   "metadata": {},
   "source": [
    "##### In-Class Exercise #3 - Add a method that takes in three parameters of year, doors and seats and prints out a formatted print statement with make, model, year, seats, and doors"
   ]
  },
  {
   "cell_type": "code",
   "execution_count": null,
   "metadata": {},
   "outputs": [],
   "source": [
    "# Create class with 2 paramters inside of the __init__ which are make and model\n",
    "\n",
    "# create two methods for your class\n",
    "\n",
    "# create a method that alters an attriubte for your class\n",
    "\n",
    "# display method that prints information about the vehicle\n",
    "\n",
    "# Output: This car is from 2019 and is a Ford Expolorer and has 4 doors and 5 seats\n",
    "\n",
    "#in order to call class methods instance.method()\n",
    "class Car():\n",
    "    def __init__(self, make, model, doors, seats):\n",
    "        self.make = make\n",
    "        self.model = model\n",
    "        self.doors = doors\n",
    "        self.seats = seats\n",
    "        self.color = \"\"\n",
    "    \n",
    "    def display_make(self):\n",
    "        print(f\"Your car is a {self.make}.\")        \n",
    "\n",
    "    def display_model(self):\n",
    "        print(f\"Your car is a {self.model}.\")        \n",
    "\n",
    "    def display_doors(self):\n",
    "        print(f\"Your car has {self.doors} doors.\")\n",
    "    \n",
    "    def change_doors(self):\n",
    "        new_doors = int(input(\"How many doors do you want your car to have? \"))\n",
    "        self.doors = new_doors\n",
    "        \n",
    "    def display_color(self):\n",
    "        print(f\"Your car is {self.color}.\")\n",
    "    \n",
    "    def change_color(self):\n",
    "        new_color = input(\"What color do you want your car to be? \")\n",
    "        self.color = new_color\n",
    "\n",
    "new_car = Car(\"Ford\", \"Explorer\", 4, 4)"
   ]
  },
  {
   "cell_type": "code",
   "execution_count": null,
   "metadata": {},
   "outputs": [],
   "source": [
    "print(new_car.seats)\n",
    "\n",
    "new_car.change_color()\n",
    "print(new_car.color)"
   ]
  },
  {
   "cell_type": "markdown",
   "metadata": {},
   "source": [
    "## Inheritance <br>\n",
    "<p>You can create a child-parent relationship between two classes by using inheritance. What this allows you to do is have overriding methods, but also inherit traits from the parent class. Think of it as an actual parent and child, the child will inherit the parent's genes, as will the classes in OOP</p>"
   ]
  },
  {
   "cell_type": "markdown",
   "metadata": {},
   "source": [
    "##### Syntax for Inheriting from a Parent Class"
   ]
  },
  {
   "cell_type": "code",
   "execution_count": null,
   "metadata": {},
   "outputs": [],
   "source": [
    "#create our parent class\n",
    "class Animal():\n",
    "    ACCELERATION = 9.8\n",
    "    def __init__(self, name, species, legs = 4):\n",
    "        self.name = name \n",
    "        self.species = species\n",
    "        self.legs = legs\n",
    "        \n",
    "    #generic Parent Method\n",
    "    def make_sound(self):\n",
    "        print(\"Reeeeeee\")\n",
    "        \n",
    "#creation of our child class - Dog\n",
    "class Dog(Animal): #when we're inheriting from another class, stick the class we are inheriting from inside parenthesis.\n",
    "    SPEED = 15\n",
    "    \n",
    "    def print_info(self):\n",
    "        print(f\"The dog runs at {self.SPEED} mph and accelerates at {self.ACCELERATION} mps^2.\")\n",
    "        \n",
    "#creation of our grandchild class - Mut\n",
    "class Mut(Dog):\n",
    "    COLOR = \"light brownish, beige\"\n",
    "    \n",
    "    #accessing the Animal class init through the Dog class\n",
    "    def __init__(self, name, species, eye_color, legs = 4):\n",
    "        Dog.__init__(self, name, species, legs)\n",
    "        self.eye_color = eye_color\n",
    "    \n",
    "    #override the make_sound method from the Animal class\n",
    "    def make_sound(self):\n",
    "        print(\"roooooooo\")\n",
    "        "
   ]
  },
  {
   "cell_type": "code",
   "execution_count": null,
   "metadata": {},
   "outputs": [],
   "source": [
    "bear = Animal(\"Peagus\", \"Polar Bear\")\n",
    "otter = Animal(\"Bear\", \"River Otter\")\n",
    "liger = Animal(\"Napoleon\", \"Liger\")\n",
    "\n",
    "bear.make_sound()\n",
    "otter.make_sound()\n",
    "liger.make_sound()\n",
    "print(bear.ACCELERATION)"
   ]
  },
  {
   "cell_type": "markdown",
   "metadata": {},
   "source": [
    "##### The \\__init\\__() Method for a Child Class - super()"
   ]
  },
  {
   "cell_type": "code",
   "execution_count": null,
   "metadata": {
    "scrolled": true
   },
   "outputs": [],
   "source": [
    "class Mut(Dog):\n",
    "    COLOR = \"Lost of color\"\n",
    "    #accessing the Anima. class __init__ with the super().__init__\n",
    "    def __init__(self, name, species, eye_color, legs = 4):\n",
    "        super().__init__(name, species, legs)\n",
    "        #super() will reference the class that the child takes in\n",
    "    \n",
    "    def make_sound(self):\n",
    "        print(\"woof\")\n",
    "        \n",
    "courage = Mut(\"Courage\", \"Schnauzer\", \"black\")\n",
    "\n",
    "print(courage.name)\n",
    "print(courage.species)\n",
    "courage.print_info()"
   ]
  },
  {
   "cell_type": "markdown",
   "metadata": {},
   "source": [
    "##### Defining Attributes and Methods for the Child Class"
   ]
  },
  {
   "cell_type": "code",
   "execution_count": null,
   "metadata": {},
   "outputs": [],
   "source": [
    "# See Above"
   ]
  },
  {
   "cell_type": "markdown",
   "metadata": {},
   "source": [
    "##### Method Overriding"
   ]
  },
  {
   "cell_type": "code",
   "execution_count": null,
   "metadata": {},
   "outputs": [],
   "source": [
    "# See Above"
   ]
  },
  {
   "cell_type": "markdown",
   "metadata": {},
   "source": [
    "## Classes as Attributes <br>\n",
    "<p>Classes can also be used as attributes within another class. This is useful in situations where you need to keep variables locally stored, instead of globally stored.</p>"
   ]
  },
  {
   "cell_type": "code",
   "execution_count": null,
   "metadata": {},
   "outputs": [],
   "source": [
    "class Battery():\n",
    "    VOLTZ = 7.8\n",
    "    \n",
    "    def __init__(self, cells):\n",
    "        self.cells = cells\n",
    "        \n",
    "class Car():\n",
    "    \n",
    "    def __init__(self, year, make, model, battery):\n",
    "        self.year = year\n",
    "        self.make = make\n",
    "        self.model = model\n",
    "        self.battery = battery\n",
    "        \n",
    "    def print_info(self):\n",
    "        print(f'{self.year} {self.make} {self.model} {self.batter.cells}')\n",
    "              \n",
    "battery = Battery(20)\n",
    "\n",
    "volkswagen = Car(2022, \"Volkswagen\", \"Jetta\", battery)\n",
    "\n",
    "volkswagen.print_info()\n",
    "\n",
    "print(volkswagen.battery.VOLTZ)\n",
    "        "
   ]
  },
  {
   "cell_type": "markdown",
   "metadata": {},
   "source": [
    "# Exercises"
   ]
  },
  {
   "cell_type": "markdown",
   "metadata": {},
   "source": [
    "### Exercise 1 - Turn the shopping cart program from yesterday into an object-oriented program\n",
    "\n",
    "The comments in the cell below are there as a guide for thinking about the problem. However, if you feel a different way is best for you and your own thought process, please do what feels best for you by all means."
   ]
  },
  {
   "cell_type": "code",
   "execution_count": 50,
   "metadata": {},
   "outputs": [],
   "source": [
    "# Create a class called cart that retains items and has methods to add, remove, and show\n",
    "\n",
    "class Shopping_Cart():\n",
    "    \n",
    "    def __init__(self):\n",
    "        self.items = {}\n",
    "       \n",
    "    #add items to shopping cart\n",
    "    def add(self):\n",
    "        items = input(\"What would you like to buy?\")\n",
    "        quantity = int(input(f'How many {items} would you like to add?'))\n",
    "        self.items[items] = quantity\n",
    "     \n",
    "    #remove items from shoppping cart\n",
    "    def remove(self):\n",
    "        remove = input(\"What do you want to remove?\")\n",
    "        if [rem for rem in remove if isinstance(remove, int)]:\n",
    "                print(\"Invalid entry. Please Try Again.\")\n",
    "                pass\n",
    "        quantity = int(input(\"How many would you like to remove?\"))\n",
    "        self.items[remove] -= quantity\n",
    "        if self.items[remove] not in self.items.keys():\n",
    "            print(f\"{remove} has been removed from your basket.\")\n",
    "        else:\n",
    "            print(f'You still have {remove} in your basket.')\n",
    "        \n",
    "    #display shopping cart\n",
    "    def view(self):\n",
    "        print(f'You have the following items in your basket: \\n {self.items}')"
   ]
  },
  {
   "cell_type": "code",
   "execution_count": 51,
   "metadata": {},
   "outputs": [],
   "source": [
    "class Shoppers():\n",
    "    \n",
    "    def shoppy_shop(self):\n",
    "        my_cart = Shopping_Cart()\n",
    "        \n",
    "        while True:\n",
    "            response = input(\"Which part of your shopping journey are you on? Adding items, removing items, view cart, or quit? \")\n",
    "            \n",
    "            if response.lower() == 'view':\n",
    "                    if my_cart.items == {}:\n",
    "                        print(\"\\nWe would love for you to pick something to add to your cart because it is currently empty.\")   \n",
    "                    else:\n",
    "                        my_cart.view()\n",
    "                        \n",
    "            elif response.lower() == 'quit':\n",
    "                print(\"\\nOh no, we are sad to see you go! Enjoy your day.\")\n",
    "                break\n",
    "                \n",
    "            elif response.lower() == 'add':\n",
    "                my_cart.add()\n",
    "        \n",
    "            elif response.lower() == 'remove':\n",
    "                my_cart.remove()\n",
    "                \n",
    "            else:\n",
    "                print(\"\\nYour reponse is invalid. Please pick from the list above.\")"
   ]
  },
  {
   "cell_type": "code",
   "execution_count": 52,
   "metadata": {},
   "outputs": [
    {
     "name": "stdout",
     "output_type": "stream",
     "text": [
      "Which part of your shopping journey are you on? Adding items, removing items, view cart, or quit? add\n",
      "What would you like to buy?celery\n",
      "How many celery would you like to add?100\n",
      "Which part of your shopping journey are you on? Adding items, removing items, view cart, or quit? remove\n",
      "What do you want to remove?100\n",
      "How many would you like to remove?100\n"
     ]
    },
    {
     "ename": "KeyError",
     "evalue": "'100'",
     "output_type": "error",
     "traceback": [
      "\u001b[0;31m---------------------------------------------------------------------------\u001b[0m",
      "\u001b[0;31mKeyError\u001b[0m                                  Traceback (most recent call last)",
      "Input \u001b[0;32mIn [52]\u001b[0m, in \u001b[0;36m<cell line: 2>\u001b[0;34m()\u001b[0m\n\u001b[1;32m      1\u001b[0m shop \u001b[38;5;241m=\u001b[39m Shoppers()\n\u001b[0;32m----> 2\u001b[0m \u001b[43mshop\u001b[49m\u001b[38;5;241;43m.\u001b[39;49m\u001b[43mshoppy_shop\u001b[49m\u001b[43m(\u001b[49m\u001b[43m)\u001b[49m\n",
      "Input \u001b[0;32mIn [51]\u001b[0m, in \u001b[0;36mShoppers.shoppy_shop\u001b[0;34m(self)\u001b[0m\n\u001b[1;32m     20\u001b[0m     my_cart\u001b[38;5;241m.\u001b[39madd()\n\u001b[1;32m     22\u001b[0m \u001b[38;5;28;01melif\u001b[39;00m response\u001b[38;5;241m.\u001b[39mlower() \u001b[38;5;241m==\u001b[39m \u001b[38;5;124m'\u001b[39m\u001b[38;5;124mremove\u001b[39m\u001b[38;5;124m'\u001b[39m:\n\u001b[0;32m---> 23\u001b[0m     \u001b[43mmy_cart\u001b[49m\u001b[38;5;241;43m.\u001b[39;49m\u001b[43mremove\u001b[49m\u001b[43m(\u001b[49m\u001b[43m)\u001b[49m\n\u001b[1;32m     25\u001b[0m \u001b[38;5;28;01melse\u001b[39;00m:\n\u001b[1;32m     26\u001b[0m     \u001b[38;5;28mprint\u001b[39m(\u001b[38;5;124m\"\u001b[39m\u001b[38;5;130;01m\\n\u001b[39;00m\u001b[38;5;124mYour reponse is invalid. Please pick from the list above.\u001b[39m\u001b[38;5;124m\"\u001b[39m)\n",
      "Input \u001b[0;32mIn [50]\u001b[0m, in \u001b[0;36mShopping_Cart.remove\u001b[0;34m(self)\u001b[0m\n\u001b[1;32m     19\u001b[0m         \u001b[38;5;28;01mpass\u001b[39;00m\n\u001b[1;32m     20\u001b[0m quantity \u001b[38;5;241m=\u001b[39m \u001b[38;5;28mint\u001b[39m(\u001b[38;5;28minput\u001b[39m(\u001b[38;5;124m\"\u001b[39m\u001b[38;5;124mHow many would you like to remove?\u001b[39m\u001b[38;5;124m\"\u001b[39m))\n\u001b[0;32m---> 21\u001b[0m \u001b[38;5;28mself\u001b[39m\u001b[38;5;241m.\u001b[39mitems[remove] \u001b[38;5;241m-\u001b[39m\u001b[38;5;241m=\u001b[39m quantity\n\u001b[1;32m     22\u001b[0m \u001b[38;5;28;01mif\u001b[39;00m \u001b[38;5;28mself\u001b[39m\u001b[38;5;241m.\u001b[39mitems[remove] \u001b[38;5;129;01mnot\u001b[39;00m \u001b[38;5;129;01min\u001b[39;00m \u001b[38;5;28mself\u001b[39m\u001b[38;5;241m.\u001b[39mitems\u001b[38;5;241m.\u001b[39mkeys():\n\u001b[1;32m     23\u001b[0m     \u001b[38;5;28mprint\u001b[39m(\u001b[38;5;124mf\u001b[39m\u001b[38;5;124m\"\u001b[39m\u001b[38;5;132;01m{\u001b[39;00mremove\u001b[38;5;132;01m}\u001b[39;00m\u001b[38;5;124m has been removed from your basket.\u001b[39m\u001b[38;5;124m\"\u001b[39m)\n",
      "\u001b[0;31mKeyError\u001b[0m: '100'"
     ]
    }
   ],
   "source": [
    "shop = Shoppers()\n",
    "shop.shoppy_shop()"
   ]
  },
  {
   "cell_type": "markdown",
   "metadata": {},
   "source": [
    "### Exercise 2 - Write a Python class which has two methods get_String and print_String. get_String accept a string from the user and print_String print the string in upper case"
   ]
  },
  {
   "cell_type": "code",
   "execution_count": 14,
   "metadata": {},
   "outputs": [
    {
     "name": "stdout",
     "output_type": "stream",
     "text": [
      "What are your thoughts on string theory?dsjflkasdjfs\n",
      "DSJFLKASDJFS\n"
     ]
    }
   ],
   "source": [
    "class Wambats():\n",
    "    \n",
    "    def __init__(self):\n",
    "        self.string = input(\"What are your thoughts on string theory?\")\n",
    "        \n",
    "    def print_String(self):\n",
    "        print(self.string.upper())\n",
    "        \n",
    "string = Wambats()\n",
    "string.print_String()"
   ]
  }
 ],
 "metadata": {
  "kernelspec": {
   "display_name": "Python 3 (ipykernel)",
   "language": "python",
   "name": "python3"
  },
  "language_info": {
   "codemirror_mode": {
    "name": "ipython",
    "version": 3
   },
   "file_extension": ".py",
   "mimetype": "text/x-python",
   "name": "python",
   "nbconvert_exporter": "python",
   "pygments_lexer": "ipython3",
   "version": "3.9.12"
  }
 },
 "nbformat": 4,
 "nbformat_minor": 2
}
